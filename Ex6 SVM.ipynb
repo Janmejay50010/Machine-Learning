{
 "cells": [
  {
   "cell_type": "code",
   "execution_count": 1,
   "metadata": {},
   "outputs": [
    {
     "name": "stderr",
     "output_type": "stream",
     "text": [
      "C:\\Users\\jarves\\Anaconda3\\lib\\site-packages\\ipykernel\\parentpoller.py:116: UserWarning: Parent poll failed.  If the frontend dies,\n",
      "                the kernel may be left running.  Please let us know\n",
      "                about your system (bitness, Python, etc.) at\n",
      "                ipython-dev@scipy.org\n",
      "  ipython-dev@scipy.org\"\"\")\n"
     ]
    }
   ],
   "source": [
    "import numpy as np\n",
    "import pandas as pd\n",
    "import os\n",
    "import matplotlib.pyplot as plt\n",
    "import scipy.io as sio\n",
    "from sklearn.svm import SVC\n"
   ]
  },
  {
   "cell_type": "code",
   "execution_count": 2,
   "metadata": {},
   "outputs": [],
   "source": [
    "os.chdir('C:/Users/jarves/Desktop/Machine Learning/Andrew NG/ex6')"
   ]
  },
  {
   "cell_type": "markdown",
   "metadata": {},
   "source": [
    "# Classification using Linear SVM\n"
   ]
  },
  {
   "cell_type": "code",
   "execution_count": 5,
   "metadata": {},
   "outputs": [
    {
     "name": "stdout",
     "output_type": "stream",
     "text": [
      "<class 'dict'>\n"
     ]
    }
   ],
   "source": [
    "data = sio.loadmat('ex6data1')\n",
    "print(type(data))"
   ]
  },
  {
   "cell_type": "code",
   "execution_count": 6,
   "metadata": {},
   "outputs": [],
   "source": [
    "X = data['X']  # 51 x 2 matrix\n",
    "y = data['y']"
   ]
  },
  {
   "cell_type": "code",
   "execution_count": 7,
   "metadata": {},
   "outputs": [
    {
     "name": "stdout",
     "output_type": "stream",
     "text": [
      "(51, 2)\n",
      "(51, 1)\n"
     ]
    }
   ],
   "source": [
    "print(X.shape)\n",
    "print(y.shape)"
   ]
  },
  {
   "cell_type": "code",
   "execution_count": 8,
   "metadata": {},
   "outputs": [
    {
     "data": {
      "text/plain": [
       "(1.5, 5)"
      ]
     },
     "execution_count": 8,
     "metadata": {},
     "output_type": "execute_result"
    },
    {
     "data": {
      "image/png": "[encoded data removed]",
      "text/plain": [
       "<Figure size 432x288 with 1 Axes>"
      ]
     },
     "metadata": {
      "needs_background": "light"
     },
     "output_type": "display_data"
    }
   ],
   "source": [
    "pos = (y==1).ravel() #flattens i.e. makes 1d array\n",
    "neg = (y==0).ravel() ##alternative code neg = np.array([X[i] for i in xrange(X.shape[0]) if y[i] == 0])\n",
    "plt.scatter(X[pos, 0], X[pos, 1], color='black', marker='+')\n",
    "plt.scatter(X[neg, 0], X[neg, 1], color='yellow', edgecolors='black', marker='o')\n",
    "plt.xlim(0, 4.5)\n",
    "plt.ylim(1.5, 5)"
   ]
  },
  {
   "cell_type": "code",
   "execution_count": 9,
   "metadata": {},
   "outputs": [
    {
     "name": "stdout",
     "output_type": "stream",
     "text": [
      "Training Linear SVM ...\n",
      "\n"
     ]
    },
    {
     "data": {
      "image/png": "[encoded data removed]",
      "text/plain": [
       "<Figure size 432x288 with 1 Axes>"
      ]
     },
     "metadata": {
      "needs_background": "light"
     },
     "output_type": "display_data"
    },
    {
     "name": "stdout",
     "output_type": "stream",
     "text": [
      "[1.40718563 2.13398052]\n",
      "-10.348897779877271\n"
     ]
    }
   ],
   "source": [
    "print('Training Linear SVM ...\\n')\n",
    "C = 1  #default\n",
    "svm = SVC(kernel='linear', C=C)\n",
    "svm.fit(X, y.ravel())\n",
    "weights = svm.coef_[0]\n",
    "intercept = svm.intercept_[0]\n",
    "#draw svm boundary\n",
    "xp = np.linspace(X.min(), X.max(), 100)\n",
    "yp = - (weights[0] * xp + intercept) / weights[1]\n",
    "\n",
    "pos = (y == 1).ravel()\n",
    "neg = (y == 0).ravel()\n",
    "plt.scatter(X[pos, 0], X[pos, 1], color='black', marker='+')\n",
    "plt.scatter(X[neg, 0], X[neg, 1], color='yellow', edgecolors='black', marker='o')\n",
    "plt.plot(xp, yp)\n",
    "plt.xlim(0, 4.5)\n",
    "plt.ylim(1.5, 5)\n",
    "plt.show()\n",
    "print(weights)\n",
    "print(intercept)"
   ]
  },
  {
   "cell_type": "markdown",
   "metadata": {},
   "source": [
    "# Part - 2  Gaussian Kernel"
   ]
  },
  {
   "cell_type": "code",
   "execution_count": 11,
   "metadata": {},
   "outputs": [],
   "source": [
    "#Gaussian Kernel\n",
    "#linalg.norm returns one of seven different matrix norms\n",
    "def gaussian_kernel(x1, x2, sigma):\n",
    "    return np.exp(- (np.linalg.norm(x1 - x2) ** 2).sum() / (2 * (sigma ** 2)))"
   ]
  },
  {
   "cell_type": "code",
   "execution_count": 13,
   "metadata": {},
   "outputs": [
    {
     "name": "stdout",
     "output_type": "stream",
     "text": [
      "Gaussian Kernel between x1 = [1; 2; 1], x2 = [0; 4; -1], sigma = 2 :\n",
      " \t0.324652\n",
      "(for sigma = 2, this value should be about 0.324652)\n"
     ]
    }
   ],
   "source": [
    "x1 = np.array([1, 2, 1])\n",
    "x2 = np.array([0, 4, -1])\n",
    "sigma = 2\n",
    "sim = gaussian_kernel(x1, x2, sigma)\n",
    "\n",
    "print('Gaussian Kernel between x1 = [1; 2; 1], x2 = [0; 4; -1], sigma = {0} :\\n'\n",
    ".format(sigma),\n",
    "    '\\t{0:.6f}\\n(for sigma = 2, this value should be about 0.324652)'\n",
    "    .format(sim))\n",
    "\n",
    "\n",
    "plt.close()\n"
   ]
  },
  {
   "cell_type": "code",
   "execution_count": 14,
   "metadata": {},
   "outputs": [
    {
     "data": {
      "image/png": "[encoded data removed]",
      "text/plain": [
       "<Figure size 432x288 with 1 Axes>"
      ]
     },
     "metadata": {
      "needs_background": "light"
     },
     "output_type": "display_data"
    }
   ],
   "source": [
    "#Visualizing Dataset 2 \n",
    "data = sio.loadmat('ex6data2.mat')\n",
    "X = data['X']  # 863 x 2 matrix\n",
    "y = data['y']  # 863 x 1 matrix\n",
    "\n",
    "pos = (y == 1).ravel()\n",
    "neg = (y == 0).ravel()\n",
    "plt.scatter(X[pos, 0], X[pos, 1], color='black', marker='+')\n",
    "plt.scatter(X[neg, 0], X[neg, 1], color='yellow', edgecolors='black', marker='o')\n",
    "plt.xlim(0, 1)\n",
    "plt.ylim(0.4, 1)\n",
    "plt.show()"
   ]
  },
  {
   "cell_type": "code",
   "execution_count": 15,
   "metadata": {},
   "outputs": [
    {
     "name": "stdout",
     "output_type": "stream",
     "text": [
      "Training SVM with RBF Kernel ...\n",
      "\n"
     ]
    },
    {
     "data": {
      "text/plain": [
       "SVC(C=30, cache_size=200, class_weight=None, coef0=0.0,\n",
       "  decision_function_shape='ovr', degree=3, gamma=30, kernel='rbf',\n",
       "  max_iter=-1, probability=False, random_state=None, shrinking=True,\n",
       "  tol=0.001, verbose=False)"
      ]
     },
     "execution_count": 15,
     "metadata": {},
     "output_type": "execute_result"
    }
   ],
   "source": [
    "#RBF Kernel (Dataset 2)\n",
    "print('Training SVM with RBF Kernel ...\\n')\n",
    "\n",
    "C = 30\n",
    "sigma = 30\n",
    "\n",
    "svm = SVC(kernel='rbf', C=C, gamma=sigma)\n",
    "svm.fit(X, y.ravel())"
   ]
  },
  {
   "cell_type": "code",
   "execution_count": 16,
   "metadata": {},
   "outputs": [
    {
     "data": {
      "image/png": "[encoded data removed]",
      "text/plain": [
       "<Figure size 432x288 with 1 Axes>"
      ]
     },
     "metadata": {
      "needs_background": "light"
     },
     "output_type": "display_data"
    }
   ],
   "source": [
    "x1 = np.linspace(X[:, 0].min(), X[:, 0].max(), 100)\n",
    "x2 = np.linspace(X[:, 1].min(), X[:, 1].max(), 100)\n",
    "x1, x2 = np.meshgrid(x1, x2)\n",
    "yp = svm.predict(np.array([x1.ravel(), x2.ravel()]).T).reshape(x1.shape)\n",
    "\n",
    "pos = (y == 1).ravel()\n",
    "neg = (y == 0).ravel()\n",
    "plt.scatter(X[pos, 0], X[pos, 1], color='black', marker='+')\n",
    "plt.scatter(X[neg, 0], X[neg, 1], color='yellow', edgecolors='black', marker='o')\n",
    "#plt.xlim(0, 1)\n",
    "#plt.ylim(0.4, 1)\n",
    "plt.contour(x1, x2, yp)\n",
    "plt.show()"
   ]
  },
  {
   "cell_type": "code",
   "execution_count": null,
   "metadata": {},
   "outputs": [],
   "source": [
    "\n",
    "\n"
   ]
  },
  {
   "cell_type": "markdown",
   "metadata": {},
   "source": [
    "# (Part 3) Finding the right C and Sigma"
   ]
  },
  {
   "cell_type": "code",
   "execution_count": 17,
   "metadata": {},
   "outputs": [],
   "source": [
    "# Visualizing Dataset 3 \n",
    "data = sio.loadmat('ex6data3.mat')\n",
    "X = data['X']  # 211 x 2 matrix\n",
    "y = data['y']  # 211 x 1 matrix\n",
    "Xval = data['Xval']  # 200 x 2 matrix\n",
    "yval = data['yval']  # 200 x 1 matrix\n",
    "\n"
   ]
  },
  {
   "cell_type": "code",
   "execution_count": 19,
   "metadata": {},
   "outputs": [
    {
     "data": {
      "image/png": "[encoded data removed]",
      "text/plain": [
       "<Figure size 432x288 with 1 Axes>"
      ]
     },
     "metadata": {
      "needs_background": "light"
     },
     "output_type": "display_data"
    }
   ],
   "source": [
    "pos = (y == 1).ravel()\n",
    "neg = (y == 0).ravel()\n",
    "plt.scatter(X[pos, 0], X[pos, 1], color='black', marker='+')\n",
    "plt.scatter(\n",
    "    X[neg, 0], X[neg, 1], color='yellow', edgecolors='black', marker='o')\n",
    "plt.xlim(-0.6, 0.3)\n",
    "plt.ylim(-0.8, 0.6)\n",
    "plt.show()\n"
   ]
  },
  {
   "cell_type": "code",
   "execution_count": null,
   "metadata": {},
   "outputs": [],
   "source": []
  },
  {
   "cell_type": "code",
   "execution_count": 34,
   "metadata": {},
   "outputs": [],
   "source": [
    "# RBF Kernel (Dataset 3)\n",
    "C, sigma = dataset3_params(X, y, Xval, yval)\n",
    "\n",
    "svm = SVC(kernel='rbf', C=C, gamma=sigma)\n",
    "svm.fit(X, y.ravel())\n",
    "\n",
    "x1 = np.linspace(X[:, 0].min(), X[:, 0].max(), 100)\n",
    "x2 = np.linspace(X[:, 1].min(), X[:, 1].max(), 100)\n",
    "x1, x2 = np.meshgrid(x1, x2)\n",
    "yp = svm.predict(np.array([x1.ravel(), x2.ravel()]).T).reshape(x1.shape)\n"
   ]
  },
  {
   "cell_type": "code",
   "execution_count": 35,
   "metadata": {},
   "outputs": [
    {
     "data": {
      "image/png": "[encoded data removed]",
      "text/plain": [
       "<Figure size 432x288 with 1 Axes>"
      ]
     },
     "metadata": {
      "needs_background": "light"
     },
     "output_type": "display_data"
    }
   ],
   "source": [
    "pos = (y == 1).ravel()\n",
    "neg = (y == 0).ravel()\n",
    "plt.scatter(X[pos, 0], X[pos, 1], color='black', marker='+')\n",
    "plt.scatter(X[neg, 0], X[neg, 1], color='yellow', edgecolors='black', marker='o')\n",
    "#plt.xlim(-0.6, 0.3)\n",
    "#plt.ylim(-0.8, 0.6)"
   ]
  },
  {
   "cell_type": "code",
   "execution_count": 41,
   "metadata": {},
   "outputs": [],
   "source": [
    "\n",
    "\n"
   ]
  },
  {
   "cell_type": "markdown",
   "metadata": {},
   "source": [
    "\n",
    "# Part4(Spam classification)"
   ]
  },
  {
   "cell_type": "code",
   "execution_count": 23,
   "metadata": {},
   "outputs": [],
   "source": [
    "import numpy as np\n",
    "import matplotlib.pyplot as plt\n",
    "import scipy.io \n",
    "from sklearn import svm\n",
    "import re \n",
    "import nltk, nltk.stem.porter"
   ]
  },
  {
   "cell_type": "code",
   "execution_count": 24,
   "metadata": {},
   "outputs": [
    {
     "data": {
      "text/plain": [
       "\"\\nAnyone knows how much it costs to host a web portal ?\\n>\\nWell, it depends on how many visitors you're expecting.\\nThis can be anywhere from less than 10 bucks a month to a couple of $100. \\nYou should checkout http://www.rackspace.com/ or perhaps Amazon EC2 \\nif youre running something big..\\nTo unsubscribe yourself from this mailing list, send an email to:\\ngroupname-unsubscribe@egroups.com\\n\""
      ]
     },
     "execution_count": 24,
     "metadata": {},
     "output_type": "execute_result"
    }
   ],
   "source": [
    "## Sample of the email\n",
    "\n",
    "\"\"\"\n",
    "Anyone knows how much it costs to host a web portal ?\n",
    ">\n",
    "Well, it depends on how many visitors you're expecting.\n",
    "This can be anywhere from less than 10 bucks a month to a couple of $100. \n",
    "You should checkout http://www.rackspace.com/ or perhaps Amazon EC2 \n",
    "if youre running something big..\n",
    "To unsubscribe yourself from this mailing list, send an email to:\n",
    "groupname-unsubscribe@egroups.com\n",
    "\"\"\""
   ]
  },
  {
   "cell_type": "code",
   "execution_count": 32,
   "metadata": {},
   "outputs": [],
   "source": [
    "def preProcess( email ):\n",
    "    email = email.lower()\n",
    "    # Strip html tags. replace with a space\n",
    "    email = re.sub('<[^<>]+>', ' ', email);\n",
    "    #Any numbers get replaced with the string 'number'\n",
    "    email = re.sub('[0-9]+', 'number', email)\n",
    "    #Anything starting with http or https:// replaced with 'httpaddr'\n",
    "    email = re.sub('(http|https)://[^\\s]*', 'httpaddr', email)\n",
    "    #Strings with \"@\" in the middle are considered emails --> 'emailaddr'\n",
    "    email = re.sub('[^\\s]+@[^\\s]+', 'emailaddr', email);\n",
    "    #The '$' sign gets replaced with 'dollar'\n",
    "    email = re.sub('[$]+', 'dollar', email);\n",
    "    return email\n",
    "\n",
    "def getVocabDict(reverse=False):\n",
    "    \"\"\"\n",
    "    Function to read in the supplied vocab list text file into a dictionary\n",
    "    Dictionary key is the stemmed word, value is the index in the text file\n",
    "    If \"reverse\", the keys and values are switched.\n",
    "    \"\"\"\n",
    "    vocab_dict = {}\n",
    "    with open(\"vocab.txt\") as f:\n",
    "        for line in f:\n",
    "            (val, key) = line.split()\n",
    "            if not reverse:\n",
    "                vocab_dict[key] = int(val)\n",
    "            else:\n",
    "                vocab_dict[int(val)] = key\n",
    "                \n",
    "    return vocab_dict"
   ]
  },
  {
   "cell_type": "code",
   "execution_count": 33,
   "metadata": {},
   "outputs": [],
   "source": [
    "def email2TokenList( raw_email ):\n",
    "    \"\"\"\n",
    "    Function that takes in preprocessed (simplified) email, tokenizes it,\n",
    "    stems each word, and returns an (ordered) list of tokens in the e-mail\n",
    "    \"\"\"\n",
    "    \n",
    "    stemmer = nltk.stem.porter.PorterStemmer()\n",
    "    email = preProcess( raw_email )\n",
    "\n",
    "    #Split the e-mail into individual words (tokens) (split by the delimiter ' ')\n",
    "    #Splitting by many delimiters is easiest with re.split()\n",
    "    tokens = re.split('[ \\@\\$\\/\\#\\.\\-\\:\\&\\*\\+\\=\\[\\]\\?\\!\\(\\)\\{\\}\\,\\'\\\"\\>\\_\\<\\;\\%]', email)\n",
    "    \n",
    "    #Loop over each token and use a stemmer to shorten it, check if the word is in the vocab_list... if it is, store index\n",
    "    tokenlist = []\n",
    "    for token in tokens:\n",
    "      \n",
    "        token = re.sub('[^a-zA-Z0-9]', '', token);\n",
    "        stemmed = stemmer.stem( token )\n",
    "        #Throw out empty tokens\n",
    "        if not len(token): continue\n",
    "        #Store a list of all unique stemmed words\n",
    "        tokenlist.append(stemmed)\n",
    "            \n",
    "    return tokenlist\n"
   ]
  },
  {
   "cell_type": "code",
   "execution_count": 34,
   "metadata": {},
   "outputs": [
    {
     "name": "stdout",
     "output_type": "stream",
     "text": [
      "Length of feature vector is 1899\n",
      "Number of non-zero entries is: 45\n"
     ]
    }
   ],
   "source": [
    "def email2VocabIndices( raw_email, vocab_dict ):\n",
    "    #returns a list of indices corresponding to the location in vocab_dict for each stemmed word \n",
    "    tokenlist = email2TokenList( raw_email )\n",
    "    index_list = [ vocab_dict[token] for token in tokenlist if token in vocab_dict ]\n",
    "    return index_list\n",
    "\t\n",
    "#feature extraction\n",
    "\n",
    "def email2FeatureVector( raw_email, vocab_dict ):\n",
    "    # returns a vector of shape(n,1) where n is the size of the vocab_dict.\n",
    "    #he first element in this vector is 1 if the vocab word with index == 1 is in raw_email, else 0\n",
    "    n = len(vocab_dict)\n",
    "    result = np.zeros((n,1))\n",
    "    vocab_indices = email2VocabIndices( email_contents, vocab_dict )\n",
    "    for idx in vocab_indices:\n",
    "        result[idx] = 1\n",
    "    return result\n",
    "\n",
    "\n",
    "vocab_dict = getVocabDict()\n",
    "email_contents = open( 'emailSample1.txt', 'r' ).read()\n",
    "test_fv = email2FeatureVector( email_contents, vocab_dict )\n",
    "\n",
    "print(\"Length of feature vector is %d\" % len(test_fv))\n",
    "print(\"Number of non-zero entries is: %d\" % sum(test_fv==1))"
   ]
  },
  {
   "cell_type": "code",
   "execution_count": 36,
   "metadata": {},
   "outputs": [],
   "source": [
    "#svm for spam classification\n",
    "datafile = 'spamTrain.mat'\n",
    "mat = scipy.io.loadmat(datafile)\n",
    "X, y = mat['X'], mat['y']\n",
    "# Test set\n",
    "datafile = 'spamTest.mat'\n",
    "mat = scipy.io.loadmat(datafile)\n",
    "Xtest, ytest = mat['Xtest'], mat['ytest']\n"
   ]
  },
  {
   "cell_type": "code",
   "execution_count": 39,
   "metadata": {},
   "outputs": [
    {
     "name": "stdout",
     "output_type": "stream",
     "text": [
      "Total number of training emails =  4000\n",
      "Number of training spam emails =  1277\n",
      "Number of training nonspam emails =  2723\n"
     ]
    }
   ],
   "source": [
    "pos = np.array([X[i] for i in range(X.shape[0]) if y[i] == 1])\n",
    "neg = np.array([X[i] for i in range(X.shape[0]) if y[i] == 0])\n",
    "print('Total number of training emails = ',X.shape[0])\n",
    "print('Number of training spam emails = ',pos.shape[0])\n",
    "print('Number of training nonspam emails = ',neg.shape[0])\n",
    "\n"
   ]
  },
  {
   "cell_type": "code",
   "execution_count": 41,
   "metadata": {},
   "outputs": [
    {
     "name": "stdout",
     "output_type": "stream",
     "text": [
      "Training accuracy = 99.83%\n",
      "Test set accuracy = 98.90%\n"
     ]
    }
   ],
   "source": [
    "# First we make an instance of an SVM with C=0.1 and 'linear' kernel\n",
    "linear_svm = svm.SVC(C=0.1, kernel='linear')\n",
    "\n",
    "# Now we fit the SVM to our X matrix, given the labels y\n",
    "linear_svm.fit( X, y.flatten() )\n",
    "\n",
    "#  training accuracy of about 99.8% and a test accuracy of about 98.5%\"\n",
    "\n",
    "train_predictions = linear_svm.predict(X).reshape((y.shape[0],1))\n",
    "train_acc = 100. * float(sum(train_predictions == y))/y.shape[0]\n",
    "print('Training accuracy = %0.2f%%' % train_acc)\n",
    "\n",
    "test_predictions = linear_svm.predict(Xtest).reshape((ytest.shape[0],1))\n",
    "test_acc = 100. * float(sum(test_predictions == ytest))/ytest.shape[0]\n",
    "print('Test set accuracy = %0.2f%%' % test_acc)\n"
   ]
  },
  {
   "cell_type": "code",
   "execution_count": 44,
   "metadata": {},
   "outputs": [
    {
     "name": "stdout",
     "output_type": "stream",
     "text": [
      "The 15 most important words to classify a spam e-mail are:\n",
      "['otherwis', 'clearli', 'remot', 'gt', 'visa', 'base', 'doesn', 'wife', 'previous', 'player', 'mortgag', 'natur', 'll', 'futur', 'hot']\n",
      "The 15 least important words to classify a spam e-mail are:\n",
      "['http', 'toll', 'xp', 'ratio', 'august', 'unsubscrib', 'useless', 'numberth', 'round', 'linux', 'datapow', 'wrong', 'urgent', 'that', 'spam']\n",
      "# of spam containing \"otherwis\" = 804/1277 = 62.96%\n",
      "# of NON spam containing \"otherwis\" = 301/2723 = 11.05%\n"
     ]
    }
   ],
   "source": [
    "# Determine the words most likely to indicate an e-mail is a spam\n",
    "# From the trained SVM we can get a list of the weight coefficients for each\n",
    "# word (technically, each word index)\n",
    "\n",
    "vocab_dict_flipped = getVocabDict(reverse=True)\n",
    "\n",
    "#Sort indicies from most important to least-important (high to low weight)\n",
    "sorted_indices = np.argsort( linear_svm.coef_, axis=None )[::-1]\n",
    "print(\"The 15 most important words to classify a spam e-mail are:\")\n",
    "print([ vocab_dict_flipped[x] for x in sorted_indices[:15]])\n",
    "print(\"The 15 least important words to classify a spam e-mail are:\")\n",
    "print([ vocab_dict_flipped[x] for x in sorted_indices[-15:]])\n",
    "\n",
    "\n",
    "# Most common word (mostly to debug):\n",
    "most_common_word = vocab_dict_flipped[sorted_indices[0]]\n",
    "print('# of spam containing \\\"%s\\\" = %d/%d = %0.2f%%'% \\\n",
    "    (most_common_word, sum(pos[:,1190]),pos.shape[0],  \\\n",
    "     100.*float(sum(pos[:,1190]))/pos.shape[0]))\n",
    "print('# of NON spam containing \\\"%s\\\" = %d/%d = %0.2f%%'% \\\n",
    "    (most_common_word, sum(neg[:,1190]),neg.shape[0],      \\\n",
    "     100.*float(sum(neg[:,1190]))/neg.shape[0]))"
   ]
  },
  {
   "cell_type": "code",
   "execution_count": null,
   "metadata": {},
   "outputs": [],
   "source": []
  }
 ],
 "metadata": {
  "kernelspec": {
   "display_name": "Python 3",
   "language": "python",
   "name": "python3"
  },
  "language_info": {
   "codemirror_mode": {
    "name": "ipython",
    "version": 3
   },
   "file_extension": ".py",
   "mimetype": "text/x-python",
   "name": "python",
   "nbconvert_exporter": "python",
   "pygments_lexer": "ipython3",
   "version": "3.7.0"
  }
 },
 "nbformat": 4,
 "nbformat_minor": 2
}
